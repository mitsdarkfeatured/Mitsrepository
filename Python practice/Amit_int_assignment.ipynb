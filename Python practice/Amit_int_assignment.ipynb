{
 "cells": [
  {
   "cell_type": "code",
   "execution_count": 4,
   "metadata": {
    "colab": {},
    "colab_type": "code",
    "id": "8A5Jw5NR1iEI"
   },
   "outputs": [
    {
     "name": "stdout",
     "output_type": "stream",
     "text": [
      "<class 'int'>\n",
      "140710354526896\n"
     ]
    }
   ],
   "source": [
    "#Declare an int value and store it in a variable. \n",
    "\n",
    "a = 10\n",
    "\n",
    "#Check the type and print the id of the same.\n",
    "\n",
    "print(type(a))\n",
    "print(id(a))\n"
   ]
  },
  {
   "cell_type": "code",
   "execution_count": 7,
   "metadata": {
    "colab": {},
    "colab_type": "code",
    "id": "0YU8LFTn1rAX"
   },
   "outputs": [
    {
     "name": "stdout",
     "output_type": "stream",
     "text": [
      "ID of num1 is:  140710354530512\n",
      "ID of num2 is:  140710354530512\n",
      "Is the ID of num1 and num2 same? True\n",
      "ID of num3 is:  2005911220752\n",
      "ID of num4 is:  2005911220496\n",
      "Is the ID of num3 and num4 same? False\n"
     ]
    }
   ],
   "source": [
    "#Take one int value between 0 - 256.\n",
    "#Assign it to two different variables.\n",
    "#Check the id of both the variables. It should come same. Check why?\n",
    "\n",
    "num1 = 123\n",
    "num2 = 123\n",
    "\n",
    "print('ID of num1 is: ', id(num1))\n",
    "print('ID of num2 is: ', id(num2))\n",
    "\n",
    "print('Is the ID of num1 and num2 same?',id(num1) == id(num2)) \n",
    "# The ID of num1 and num 2 is same because it uses the reusability concept (interning),\n",
    "# and as per the guidelines the values of num1 and num2 falls between -5 and 256.\n",
    "\n",
    "\n",
    "    #Take one int value either less than -5 or greater than 256.\n",
    "#Assign it to two different variables.\n",
    "#Check the id of both the variables. It should come different.Check why?\n",
    "\n",
    "num3 = -25\n",
    "num4 = -25\n",
    "\n",
    "print('ID of num3 is: ', id(num3))\n",
    "print('ID of num4 is: ', id(num4))\n",
    "\n",
    "print('Is the ID of num3 and num4 same?', id(num3) == id(num4))\n",
    "# The ID of num3 and num 4 is not same because the value falls out of the interning range i.e., it is not between (-5 and 256)\n"
   ]
  },
  {
   "cell_type": "code",
   "execution_count": 2,
   "metadata": {
    "colab": {},
    "colab_type": "code",
    "id": "YzEIG0ZZ1tSK"
   },
   "outputs": [],
   "source": [
    "#Arithmatic Operations on integers\n",
    "#Take two different intger values.\n",
    "#Store them in two different variables.\n",
    "#Do below operations on them:-\n",
    "    #Find sum of both numbers\n",
    "    #Find differce between them\n",
    "    #Find the product of both numbers.\n",
    "    #Find value after dividing first num with second number\n",
    "    #Find the remainder after dividing first number with second number\n",
    "    #Find the quotient after dividing first number with second number\n",
    "    #Find the result of first num to the power of second number."
   ]
  },
  {
   "cell_type": "code",
   "execution_count": 15,
   "metadata": {},
   "outputs": [
    {
     "name": "stdout",
     "output_type": "stream",
     "text": [
      "The sum of both the numbers is: 76\n",
      "The difference between the two numbers is:  34\n",
      "The product of both the numbers is: 1155\n",
      "The value after dividing the first number by second number is: 2.619047619047619\n",
      "The remainder after dividing the first number by second number is: 13\n",
      "The quotient after dividing the first number by second number is: 2\n",
      "First number to the power is second number is: 3528714153412895250897884368896484375\n"
     ]
    }
   ],
   "source": [
    "a = 55\n",
    "b = 21\n",
    "\n",
    "print('The sum of both the numbers is:',a+b)\n",
    "\n",
    "if a>b:\n",
    "    print('The difference between the two numbers is: ',(a-b))\n",
    "else:\n",
    "    print('The difference between the two numbers is: ',(b-a))\n",
    "    \n",
    "print('The product of both the numbers is:',a*b)\n",
    "print('The value after dividing the first number by second number is:',a/b)\n",
    "print('The remainder after dividing the first number by second number is:',a%b)\n",
    "print('The quotient after dividing the first number by second number is:',int(a/b))\n",
    "print('First number to the power is second number is:',a**b)"
   ]
  },
  {
   "cell_type": "code",
   "execution_count": 16,
   "metadata": {
    "colab": {},
    "colab_type": "code",
    "id": "GGM7CdzA1wGn"
   },
   "outputs": [],
   "source": [
    "#Comparison Operators on integers\n",
    "#Take two different intger values.\n",
    "#Store them in two different variables.\n",
    "#Do below operations on them:-\n",
    "    #Compare se two numbers with below operator:-\n",
    "        #Greater than, '>'\n",
    "        #Smaller than, '<'\n",
    "        #Greater than or equal to, '>='\n",
    "        #Less than or equal to, '<='\n",
    "#Observe their output(return type should be boolean)"
   ]
  },
  {
   "cell_type": "code",
   "execution_count": 17,
   "metadata": {},
   "outputs": [
    {
     "name": "stdout",
     "output_type": "stream",
     "text": [
      "True\n",
      "False\n",
      "True\n",
      "False\n"
     ]
    }
   ],
   "source": [
    "a = 12\n",
    "b = 9\n",
    "print(a>b)\n",
    "print(a<b)\n",
    "print(a>=b)\n",
    "print(a<=b)"
   ]
  },
  {
   "cell_type": "code",
   "execution_count": 18,
   "metadata": {
    "colab": {},
    "colab_type": "code",
    "id": "9x904sUE1y9t"
   },
   "outputs": [],
   "source": [
    "#Equality Operator\n",
    "#Take two different intger values.\n",
    "#Store them in two different variables.\n",
    "#Equuate them using equality operator (==, !=)\n",
    "#Observe the output(return type should be boolean)"
   ]
  },
  {
   "cell_type": "code",
   "execution_count": 21,
   "metadata": {},
   "outputs": [
    {
     "name": "stdout",
     "output_type": "stream",
     "text": [
      "False\n",
      "True\n"
     ]
    }
   ],
   "source": [
    "a = 33\n",
    "b = 45\n",
    "print(a==b)\n",
    "print(a!=b)"
   ]
  },
  {
   "cell_type": "code",
   "execution_count": 22,
   "metadata": {
    "colab": {},
    "colab_type": "code",
    "id": "JmQFHUwc11S-"
   },
   "outputs": [
    {
     "name": "stdout",
     "output_type": "stream",
     "text": [
      "20\n",
      "0\n",
      "0\n",
      "0\n",
      "10\n",
      "20\n",
      "20\n",
      "0\n",
      "False\n",
      "True\n"
     ]
    }
   ],
   "source": [
    "#Logical operators\n",
    "#Observe the output of below code\n",
    "#Cross check the output manually\n",
    "\n",
    "print(10 and 20)       #----------------------------------------->Output is 20        first true then SECOND (20)\n",
    "print(0 and 20)        #----------------------------------------->Output is 0         first false then false\n",
    "print(20 and 0)        #----------------------------------------->Output is 0         first true then SECOND (0)\n",
    "print(0 and 0)         #----------------------------------------->Output is 0         both 0\n",
    "\n",
    "print(10 or 20)        #----------------------------------------->Output is 10        first true (10)\n",
    "print(0 or 20)         #----------------------------------------->Output is 20        first false then second (20)\n",
    "print(20 or 0)         #----------------------------------------->Output is 20        first true (20)\n",
    "print(0 or 0)          #----------------------------------------->Output is 0         both false (0)\n",
    "\n",
    "print(not 10)          #----------------------------------------->Output is False     not true is false\n",
    "print(not 0)           #----------------------------------------->Output is True      not false is true"
   ]
  },
  {
   "cell_type": "code",
   "execution_count": 23,
   "metadata": {
    "colab": {},
    "colab_type": "code",
    "id": "-0tvoulX14Hi"
   },
   "outputs": [],
   "source": [
    "#Bitwise Operators\n",
    "#Do below operations on the values provided below:-\n",
    "    #Bitwise and(&) -----------------------------------------> 10, 20   -------> Output is 0\n",
    "    #Bitwise or(|)  -----------------------------------------> 10, 20   -------> Output is 30\n",
    "    #Bitwise(^)     -----------------------------------------> 10, 20   -------> Output is 30\n",
    "    #Bitwise negation(~) ------------------------------------> 10       -------> Output is -11\n",
    "    #Bitwise left shift  ------------------------------------> 10,2     -------> Output is 40\n",
    "    #Bitwise right shift ------------------------------------> 10,2     -------> Output is 2\n",
    "#Cross check the output manually"
   ]
  },
  {
   "cell_type": "code",
   "execution_count": 37,
   "metadata": {},
   "outputs": [
    {
     "name": "stdout",
     "output_type": "stream",
     "text": [
      "0\n",
      "30\n",
      "30\n",
      "-11\n",
      "40\n",
      "2\n"
     ]
    }
   ],
   "source": [
    "print(10 & 20) #(00001010 & 00010100 = 00000000)\n",
    "print(10 | 20) #(00001010 & 00010100 = 00011110)\n",
    "print(10 ^ 20) #(00001010 ^ 00010100 = 00011110)\n",
    "print(~10)     # -(10+1)\n",
    "print(10 << 2) # (00001010 -> 00101000)\n",
    "print(10 >> 2) # (00001010 -> 00000010)"
   ]
  },
  {
   "cell_type": "code",
   "execution_count": 36,
   "metadata": {
    "colab": {},
    "colab_type": "code",
    "id": "YCcx-Qx016hg"
   },
   "outputs": [
    {
     "name": "stdout",
     "output_type": "stream",
     "text": [
      "True\n",
      "False\n",
      "False\n",
      "True\n"
     ]
    }
   ],
   "source": [
    "#What is the output of expression inside print statement. Cross check before running the program.\n",
    "a = 10\n",
    "b = 10\n",
    "print(a is b)          #True or False?                Output is True, ID is same as the number is between (-5 to 256)\n",
    "print(a is not b)      #True or False?                Output is False\n",
    "\n",
    "a = 1000\n",
    "b = 1000\n",
    "print(a is b)          #True or False?                Output is False, ID cannot be same as the number is out of (-5 to 256)\n",
    "print(a is not b)      #True or False?                Output is True"
   ]
  },
  {
   "cell_type": "code",
   "execution_count": 31,
   "metadata": {
    "colab": {},
    "colab_type": "code",
    "id": "Un2To3XN1_Il"
   },
   "outputs": [
    {
     "name": "stdout",
     "output_type": "stream",
     "text": [
      "20\n"
     ]
    }
   ],
   "source": [
    "#What is the output of expression inside print statement. Cross check before running the program.\n",
    "print(10+(10*32)//2**5&20+(~(-10))<<2)\n",
    "#Output will be  (10+320//2**5&20+9<<2)\n",
    "#                 10+320//32&29+9<<2\n",
    "#                 10+10&29<<2\n",
    "#                 20&29<<2\n",
    "#                 20&116 = 20"
   ]
  },
  {
   "cell_type": "code",
   "execution_count": 32,
   "metadata": {
    "colab": {},
    "colab_type": "code",
    "id": "kGRb5RMd1_1I"
   },
   "outputs": [
    {
     "name": "stdout",
     "output_type": "stream",
     "text": [
      "True\n",
      "True\n",
      "True\n",
      "True\n",
      "True\n",
      "True\n"
     ]
    }
   ],
   "source": [
    "#Membership operation\n",
    "#in, not in are two membership operators and it returns boolean value\n",
    "\n",
    "print('2' in 'Python2.7.8')                                         # 2 is string\n",
    "print(10 in [10,10.20,10+20j,'Python'])                             # 10 is int item in the list \n",
    "print(10 in (10,10.20,10+20j,'Python'))                             # 10 is int item in the tuple \n",
    "print(2 in {1,2,3})                                                 # 2 is int item in the set \n",
    "print(3 in {1:100, 2:200, 3:300})                                   # 3 is key in dic\n",
    "print(10 in range(20))                                              # 10 is present between 0-19"
   ]
  },
  {
   "cell_type": "code",
   "execution_count": 35,
   "metadata": {
    "colab": {},
    "colab_type": "code",
    "id": "Es7iSvL92B9W"
   },
   "outputs": [
    {
     "name": "stdout",
     "output_type": "stream",
     "text": [
      "binary of 9876 is: 0b10011010010100\n",
      "octal of 9876 is: 0o23224\n",
      "hexadecimal of 9876 is: 0x2694\n"
     ]
    }
   ],
   "source": [
    "#An integer can be represented in binary, octal or hexadecimal form.\n",
    "#Declare one binary, one octal and one hexadecimal value and store them in three different variables.\n",
    "#Convert 9876 to its binary, octal and hexadecimal equivalent and print their corresponding value.\n",
    "\n",
    "bnum = 0b0110    # binary\n",
    "onum = 0o2654    # octal\n",
    "hnum = 0xbdf5    # hexadecimal\n",
    "\n",
    "num1 = 9876\n",
    "bnum1 = bin(num1)\n",
    "onum1 = oct(num1)\n",
    "hnum1 = hex(num1)\n",
    "print(f'binary of {num1} is:',bnum1)\n",
    "print(f'octal of {num1} is:',onum1)\n",
    "print(f'hexadecimal of {num1} is:',hnum1)"
   ]
  },
  {
   "cell_type": "code",
   "execution_count": 33,
   "metadata": {
    "colab": {},
    "colab_type": "code",
    "id": "Hm0r03lH2E0i"
   },
   "outputs": [
    {
     "name": "stdout",
     "output_type": "stream",
     "text": [
      "80\n",
      "3870\n",
      "64222\n",
      "0b1010000\n",
      "0o7436\n",
      "0xfade\n",
      "0b1010000\n",
      "0b1111101011011110\n",
      "0o175336\n",
      "0o7436\n",
      "0x50\n",
      "0xfade\n"
     ]
    }
   ],
   "source": [
    "#What will be the outut of following:-\n",
    "a = 0b1010000\n",
    "print(a) #int\n",
    "\n",
    "b = 0o7436\n",
    "print(b) #int\n",
    "\n",
    "c = 0xfade\n",
    "print(c) #int\n",
    "\n",
    "print(bin(80)) #bin\n",
    "\n",
    "print(oct(3870)) #oct\n",
    "\n",
    "print(hex(64222)) #hex\n",
    "\n",
    "print(bin(0b1010000)) #bin\n",
    "\n",
    "print(bin(0xfade)) #bin\n",
    "\n",
    "print(oct(0xfade)) #oct\n",
    "\n",
    "print(oct(0o7436)) #oct\n",
    "\n",
    "print(hex(0b1010000)) #hex\n",
    "\n",
    "print(hex(0xfade)) #hex"
   ]
  },
  {
   "cell_type": "code",
   "execution_count": 34,
   "metadata": {},
   "outputs": [
    {
     "data": {
      "text/plain": [
       "3870"
      ]
     },
     "execution_count": 34,
     "metadata": {},
     "output_type": "execute_result"
    }
   ],
   "source": [
    "2048+1024+512+256+16+8+4+2"
   ]
  },
  {
   "cell_type": "code",
   "execution_count": null,
   "metadata": {},
   "outputs": [],
   "source": []
  }
 ],
 "metadata": {
  "colab": {
   "name": "int_assignment.ipynb",
   "provenance": []
  },
  "kernelspec": {
   "display_name": "Python 3",
   "language": "python",
   "name": "python3"
  },
  "language_info": {
   "codemirror_mode": {
    "name": "ipython",
    "version": 3
   },
   "file_extension": ".py",
   "mimetype": "text/x-python",
   "name": "python",
   "nbconvert_exporter": "python",
   "pygments_lexer": "ipython3",
   "version": "3.7.6"
  }
 },
 "nbformat": 4,
 "nbformat_minor": 1
}

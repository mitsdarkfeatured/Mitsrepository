{
 "cells": [
  {
   "cell_type": "markdown",
   "metadata": {
    "colab_type": "text",
    "id": "wNRNTbrsc53d"
   },
   "source": [
    "# If - elif - else statement"
   ]
  },
  {
   "cell_type": "code",
   "execution_count": 1,
   "metadata": {
    "colab": {},
    "colab_type": "code",
    "id": "MiPfTnBycxNa"
   },
   "outputs": [
    {
     "name": "stdout",
     "output_type": "stream",
     "text": [
      "Please enter a number between 0 to 9 \n",
      "6\n",
      "Six\n"
     ]
    }
   ],
   "source": [
    "#W. A P. which takes one number from 0 to 9 from the user and prints it in the word. And if the word is not from 0 to 9 then\n",
    "#it should print that number is outside of the range and program should exit.\n",
    "# For exapmple:- \n",
    "# input = 1\n",
    "# output = one\n",
    "\n",
    "num = {'0':'Zero','1':'One','2':'Two','3':'Three','4':'Four','5':'Five','6':'Six','7':'Seven','8':'Eight','9':'Nine'}\n",
    "\n",
    "ent = input('Please enter a number between 0 to 9 \\n')\n",
    "\n",
    "if ent in num:\n",
    "    print(num[ent])\n",
    "    \n",
    "else:\n",
    "    print('The entered number is outside of the range')\n",
    "\n"
   ]
  },
  {
   "cell_type": "code",
   "execution_count": 3,
   "metadata": {
    "colab": {},
    "colab_type": "code",
    "id": "vEMNOv9zdA39"
   },
   "outputs": [
    {
     "name": "stdout",
     "output_type": "stream",
     "text": [
      "Welcome to the CALCULATOR\n",
      "Enter first number\t89\n",
      "Enter second number\t14\n",
      "To add enter 1\n",
      "To subtract enter 2\n",
      "To multiply enter 3\n",
      "To divide enter 4\n",
      "To divide and find quotient enter 5\n",
      "To divide and find remainder enter 6\n",
      "To find num1 to the power of num2 enter 7\n",
      "To come out of the program enter 8\n",
      "Please enter your choice\t5\n",
      "The quotient is: 6\n"
     ]
    }
   ],
   "source": [
    "#W. A P. to implement calculator but the operation to be done and two numbers will be taken as input from user:-\n",
    "#Operation console should show below:-\n",
    "#     Please select any one operation from below:-\n",
    "#         * To add enter 1\n",
    "#         * to subtract enter 2\n",
    "#         * To multiply enter 3\n",
    "#         * To divide enter 4\n",
    "#         * To divide and find quotient enter 5\n",
    "#         * To divide and find remainder enter 6\n",
    "#         * To find num1 to the power of num2 enter 7\n",
    "#         * To Come out of the program enter 8\n",
    "\n",
    "print('Welcome to the CALCULATOR')\n",
    "\n",
    "num1 = int(input(\"Enter first number\\t\"))\n",
    "num2 = int(input(\"Enter second number\\t\"))\n",
    "\n",
    "print('To add enter 1')\n",
    "print('To subtract enter 2')\n",
    "print('To multiply enter 3')\n",
    "print('To divide enter 4')\n",
    "print('To divide and find quotient enter 5')\n",
    "print('To divide and find remainder enter 6')\n",
    "print('To find num1 to the power of num2 enter 7')\n",
    "print('To come out of the program enter 8')\n",
    "\n",
    "choice = int(input('Please enter your choice\\t'))\n",
    "\n",
    "if choice == 8:\n",
    "    exit()\n",
    "\n",
    "elif choice == 1:\n",
    "    print('The sum of two numbers is:',num1+num2)\n",
    "    \n",
    "elif choice == 2:\n",
    "    print('The difference between the two numbers is:',abs(num1-num2))\n",
    "    \n",
    "elif choice == 3:\n",
    "    print('The product of two numbers is:',num1*num2)\n",
    "    \n",
    "elif choice == 4:\n",
    "    print('The division of first number by second number is:',num1/num2)\n",
    "    \n",
    "elif choice == 5:\n",
    "    print('The quotient is:',num1//num2)\n",
    "    \n",
    "elif choice == 6:\n",
    "    print('The remainder is:',num1%num2)\n",
    "    \n",
    "elif choice == 7:\n",
    "    print(f'{num1} to the power {num2} is:',num1**num2)\n",
    "    \n",
    "else:\n",
    "    print('Invalid input')\n"
   ]
  },
  {
   "cell_type": "code",
   "execution_count": 18,
   "metadata": {
    "colab": {},
    "colab_type": "code",
    "id": "1e2gwYLqdC1s"
   },
   "outputs": [
    {
     "name": "stdout",
     "output_type": "stream",
     "text": [
      "Enter an year\t1200\n",
      "1200 is a leap year\n"
     ]
    }
   ],
   "source": [
    "#W A P to check whether a year entered by user is an leap year or not?\n",
    "#Check with below input:-\n",
    "    #leap year:- 2012, 1968, 2004, 1200, 1600,2400\n",
    "    #Non-lear year:- 1971, 2006, 1700,1800,1900\n",
    "    \n",
    "year = int(input(\"Enter an year\\t\"))\n",
    "\n",
    "if (year%4 == 0 and year%100 != 0) or (year%100 == 0 and year%400 == 0):\n",
    "    print(f'{year} is a leap year')\n",
    "    \n",
    "else:\n",
    "    print(f'{year} is not a leap year')\n",
    "\n"
   ]
  },
  {
   "cell_type": "code",
   "execution_count": 22,
   "metadata": {
    "colab": {},
    "colab_type": "code",
    "id": "_tpXv1EtdEre"
   },
   "outputs": [
    {
     "name": "stdout",
     "output_type": "stream",
     "text": [
      "Enter a number26\n",
      "26 is an even number\n"
     ]
    }
   ],
   "source": [
    "#W A P which takes one number from the user and checks whether it is an even or odd number?, If it even then prints number is \n",
    "#even number else prints that number is odd number.\n",
    "\n",
    "num = int(input('Enter a number'))\n",
    "if num%2 == 0:\n",
    "    print(f'{num} is an even number')\n",
    "    \n",
    "else:\n",
    "    print(f'{num} is an odd number')    "
   ]
  },
  {
   "cell_type": "code",
   "execution_count": 25,
   "metadata": {
    "colab": {},
    "colab_type": "code",
    "id": "Q1HumymCdG6i"
   },
   "outputs": [
    {
     "name": "stdout",
     "output_type": "stream",
     "text": [
      "Enter first number\t25\n",
      "Enter second number\t25\n",
      "25 and 25 are equal\n"
     ]
    }
   ],
   "source": [
    "#W A P which takes two numbers from the user and prints below output:-\n",
    "#     1. num1 is greater than num2 if num1 is greater than num2\n",
    "#     2. num1 is smaller than num2 if num1 is smaller than num2\n",
    "#     3. num1 is equal to num2 if num1 and num2 are equal\n",
    "\n",
    "#Note:- 1. Do this problem using if - else \n",
    "#       2. Do this using ternary operator\n",
    "\n",
    "num1 = int(input('Enter first number\\t'))\n",
    "num2 = int(input('Enter second number\\t'))\n",
    "\n",
    "# if num1>num2:\n",
    "#     print(f'{num1} is greater than {num2}')\n",
    "    \n",
    "# if num1<num2:\n",
    "#     print(f'{num1} is smaller than {num2}')\n",
    "\n",
    "# if num1==num2:\n",
    "#     print(f'{num1} and {num2} are equal')\n",
    "\n",
    "print(f'{num1} is greater than {num2}') if num1>num2 else print(f'{num1} is smaller than {num2}') if num1<num2 else print(f'{num1} and {num2} are equal') \n"
   ]
  },
  {
   "cell_type": "code",
   "execution_count": 1,
   "metadata": {
    "colab": {},
    "colab_type": "code",
    "id": "LR6TVB-DdOPf"
   },
   "outputs": [
    {
     "name": "stdout",
     "output_type": "stream",
     "text": [
      "Enter first number\t20\n",
      "Enter second number\t50\n",
      "Enter third number\t10\n",
      "50 is greater than 20 and 10\n"
     ]
    }
   ],
   "source": [
    "#W A P which takes three numbers from the user and prints below output:-\n",
    "#     1. num1 is greater than num2 and num3 if num1 is greater than num2 and num3\n",
    "#     2. num2 is greater than num1 and num3 if num2 is greater than num1 and num3\n",
    "#     3. num3 is greater than num1 and num2 if num3 is greater than num1 and num2\n",
    "\n",
    "#Note:- 1. Do this problem using if - elif - else \n",
    "#       2. Do this using ternary operator\n",
    "\n",
    "# a = a if a>b else b\n",
    "# expr if cond1 else expr2 if cond2 else expr3\n",
    "\n",
    "num1 = int(input('Enter first number\\t'))\n",
    "num2 = int(input('Enter second number\\t'))\n",
    "num3 = int(input('Enter third number\\t'))\n",
    "\n",
    "if num1 == num2 or num2 == num3 or num1 == num3:\n",
    "    print(\"Invalid input\")\n",
    "    exit()\n",
    "    \n",
    "else:\n",
    "    print(f'{num1} is greater than {num2} and {num3}') if num1>num2 and num1>num3 else print(f'{num2} is greater than {num1} and {num3}') if num2>num3 else print(f'{num3} is greater than {num1} and {num2}')\n",
    "\n",
    "    \n",
    "#     if num1>num2 and num1>num3:\n",
    "#         print(f'{num1} is greater than {num2} and {num3}')\n",
    "\n",
    "#     elif num2>num3:\n",
    "#         print(f'{num2} is greater than {num1} and {num3}')\n",
    "    \n",
    "#     else:\n",
    "#         print(f'{num3} is greater than {num1} and {num2}')\n",
    "\n",
    "\n",
    "\n"
   ]
  },
  {
   "cell_type": "markdown",
   "metadata": {
    "colab_type": "text",
    "id": "IoOLQMUGdSox"
   },
   "source": [
    "# Loops - for loop, while loop"
   ]
  },
  {
   "cell_type": "code",
   "execution_count": 3,
   "metadata": {
    "colab": {},
    "colab_type": "code",
    "id": "9K23Uld8dQfA"
   },
   "outputs": [
    {
     "name": "stdout",
     "output_type": "stream",
     "text": [
      "The length of the string is: 55\n"
     ]
    }
   ],
   "source": [
    "#Write a Python program to find the length of the my_str using loop:-\n",
    "\n",
    "#Input:- 'Write a Python program to find the length of the my_str'\n",
    "#Output:- 55\n",
    "\n",
    "s = 'Write a Python program to find the length of the my_str'\n",
    "l = 0\n",
    "\n",
    "for x in s:\n",
    "    l+=1\n",
    "    \n",
    "print(\"The length of the string is:\",l)\n",
    "    "
   ]
  },
  {
   "cell_type": "code",
   "execution_count": 9,
   "metadata": {
    "colab": {},
    "colab_type": "code",
    "id": "bp6AcqTsdYxy"
   },
   "outputs": [
    {
     "name": "stdout",
     "output_type": "stream",
     "text": [
      "number of times p is used in the string is: 9\n"
     ]
    }
   ],
   "source": [
    "#Write a Python program to find the total number of times letter 'p' is appeared in the below string using loop:-\n",
    "    \n",
    "#Input:- 'peter piper picked a peck of pickled peppers.\\n'\n",
    "#Output:- 9\n",
    "\n",
    "s = 'peter piper picked a peck of pickled peppers.\\n'\n",
    "l = 0\n",
    "\n",
    "for x in s:\n",
    "    if x=='p':\n",
    "        l+=1\n",
    "    \n",
    "print(\"number of times p is used in the string is:\",l)"
   ]
  },
  {
   "cell_type": "code",
   "execution_count": 7,
   "metadata": {
    "colab": {},
    "colab_type": "code",
    "id": "xvxSBhTJdav1"
   },
   "outputs": [
    {
     "name": "stdout",
     "output_type": "stream",
     "text": [
      "0\n",
      "6\n",
      "8\n",
      "12\n",
      "21\n",
      "29\n",
      "37\n",
      "39\n",
      "40\n"
     ]
    }
   ],
   "source": [
    "#Write a Python Program, to print all the indexes of all occurences of letter 'p' appeared in the string using loop:-\n",
    "    \n",
    "#Input:- 'peter piper picked a peck of pickled peppers.'\n",
    "#Output:- \n",
    "# 0\n",
    "# 6\n",
    "# 8\n",
    "# 12\n",
    "# 21\n",
    "# 29\n",
    "# 37\n",
    "# 39\n",
    "# 40\n",
    "\n",
    "s = 'peter piper picked a peck of pickled peppers.'\n",
    "\n",
    "l=0\n",
    "\n",
    "for x in s:\n",
    "    if x=='p':\n",
    "        print(l)\n",
    "        \n",
    "    l+=1\n",
    "    \n"
   ]
  },
  {
   "cell_type": "code",
   "execution_count": 34,
   "metadata": {
    "colab": {},
    "colab_type": "code",
    "id": "79L_feMadbmw"
   },
   "outputs": [
    {
     "name": "stdout",
     "output_type": "stream",
     "text": [
      "['peter', 'piper', 'picked', 'a', 'peck', 'of', 'pickled', 'peppers']\n"
     ]
    }
   ],
   "source": [
    "#Write a python program to find below output using loop:-\n",
    "\n",
    "#Input:- 'peter piper picked a peck of pickled peppers.'\n",
    "#Output:- ['peter', 'piper', 'picked', 'a', 'peck', 'of', 'pickled', 'peppers']\n",
    "\n",
    "s = 'peter piper picked a peck of pickled peppers.'\n",
    "\n",
    "ch = ''\n",
    "lst = []\n",
    "\n",
    "for x in s:\n",
    "    if x != ' ' and x != '.':\n",
    "        ch += x\n",
    "        \n",
    "    else:\n",
    "        lst.append(ch)\n",
    "        ch = ''\n",
    "    \n",
    "print(lst)"
   ]
  },
  {
   "cell_type": "code",
   "execution_count": 11,
   "metadata": {
    "colab": {},
    "colab_type": "code",
    "id": "vzs5AJ53deVS"
   },
   "outputs": [
    {
     "name": "stdout",
     "output_type": "stream",
     "text": [
      "['peter', 'piper', 'picked', 'a', 'peck', 'of', 'pickled', 'peppers']\n",
      "['peppers', 'pickled', 'of', 'peck', 'a', 'picked', 'piper', 'peter']\n"
     ]
    }
   ],
   "source": [
    "#Write a python program to find below output using loop:-\n",
    "\n",
    "#Input:- 'peter piper picked a peck of pickled peppers.'\n",
    "#Output:- 'peppers pickled of peck a picked piper peter'\n",
    "\n",
    "s = 'peter piper picked a peck of pickled peppers.'\n",
    "\n",
    "ch = ''\n",
    "lst = []\n",
    "\n",
    "for x in s:\n",
    "    if x != ' ' and x != '.':\n",
    "        ch += x\n",
    "        \n",
    "    elif x==' ' or x=='.':\n",
    "        lst.append(ch)\n",
    "        ch = ''\n",
    "\n",
    "print(lst)\n",
    "        \n",
    "# print(lst[::-1])\n",
    "lst2 = []\n",
    "\n",
    "for i in range(1,len(lst)+1):\n",
    "    lst2.append(lst[-i])\n",
    "    \n",
    "print(lst2)\n"
   ]
  },
  {
   "cell_type": "code",
   "execution_count": 38,
   "metadata": {
    "colab": {},
    "colab_type": "code",
    "id": "i-HP7DrCdhwS"
   },
   "outputs": [
    {
     "name": "stdout",
     "output_type": "stream",
     "text": [
      ".sreppep delkcip fo kcep a dekcip repip retep\n"
     ]
    }
   ],
   "source": [
    "#Write a python program to find below output using loop:-\n",
    "\n",
    "#Input:- 'peter piper picked a peck of pickled peppers.'\n",
    "#Output:- '.sreppep delkcip fo kcep a dekcip repip retep'\n",
    "\n",
    "s = 'peter piper picked a peck of pickled peppers.'\n",
    "\n",
    "s1 = ''\n",
    "\n",
    "for i in range (1,len(s)+1):\n",
    "    s1 += s[-i]\n",
    "    \n",
    "print(s1)\n",
    "    "
   ]
  },
  {
   "cell_type": "code",
   "execution_count": 1,
   "metadata": {
    "colab": {},
    "colab_type": "code",
    "id": "3rt6p0ytdkq0"
   },
   "outputs": [
    {
     "name": "stdout",
     "output_type": "stream",
     "text": [
      "sreppep delkcip fo kcep a dekcip repip retep\n",
      "['sreppep', 'delkcip', 'fo', 'kcep', 'a', 'dekcip', 'repip', 'retep']\n"
     ]
    }
   ],
   "source": [
    "#Write a python program to find below output using loop:-\n",
    "\n",
    "#Input:- 'peter piper picked a peck of pickled peppers.'\n",
    "#Output:- 'retep repip dekcip a kcep fo delkcip sreppep'\n",
    "\n",
    "s = 'peter piper picked a peck of pickled peppers.'\n",
    "\n",
    "s1 = ''\n",
    "\n",
    "for i in range (1,len(s)+1):\n",
    "    if s[-i] == '.':\n",
    "        continue\n",
    "        \n",
    "    else:\n",
    "        s1 += s[-i]\n",
    "\n",
    "print(s1)\n",
    "    \n",
    "ch = ''\n",
    "lst = []\n",
    "\n",
    "for x in s1:\n",
    "    if x == ' ' or x == '.':\n",
    "        lst.append(ch)\n",
    "        ch = ''\n",
    "                \n",
    "    else:\n",
    "        ch+=x\n",
    "        \n",
    "lst.append(ch)\n",
    "\n",
    "print(lst)\n",
    "\n",
    "\n",
    "\n"
   ]
  },
  {
   "cell_type": "code",
   "execution_count": 1,
   "metadata": {
    "colab": {},
    "colab_type": "code",
    "id": "HdlAWgT2dnKO"
   },
   "outputs": [
    {
     "name": "stdout",
     "output_type": "stream",
     "text": [
      "Peter Piper Picked A Peck Of Pickled Peppers\n"
     ]
    }
   ],
   "source": [
    "#Write a python program to find below output using loop:-\n",
    "\n",
    "#Input:- 'peter piper picked a peck of pickled peppers.'\n",
    "#Output:- 'Peter Piper Picked A Peck Of Pickled Peppers'\n",
    "\n",
    "s = 'peter piper picked a peck of pickled peppers.'\n",
    "\n",
    "lst = []\n",
    "ch = ''\n",
    "\n",
    "for x in s:\n",
    "    if x == ' ' or x == '.':\n",
    "        ch = chr(ord(ch[0])-32) + ch[1:]\n",
    "        lst.append(ch)\n",
    "        ch = ''\n",
    "        \n",
    "    else:\n",
    "        ch += x\n",
    "\n",
    "print(' '.join(lst))\n",
    "    "
   ]
  },
  {
   "cell_type": "code",
   "execution_count": 2,
   "metadata": {
    "colab": {},
    "colab_type": "code",
    "id": "OthUuacodrNl"
   },
   "outputs": [
    {
     "name": "stdout",
     "output_type": "stream",
     "text": [
      "Peter piper picked a peck of pickled peppers.\n"
     ]
    }
   ],
   "source": [
    "#Write a python program to find below output using loop:-\n",
    "\n",
    "#Input:- 'Peter Piper Picked A Peck Of Pickled Peppers.'\n",
    "#Output:- 'Peter piper picked a peck of pickled peppers'\n",
    "\n",
    "s = 'peter piper picked a peck of pickled peppers.'\n",
    "s1 = ''\n",
    "ch = chr(ord(s[0])-32)\n",
    "\n",
    "s1 += ch\n",
    "\n",
    "for i in range (1,len(s)):\n",
    "  s1 += s[i]\n",
    "\n",
    "print(s1)"
   ]
  },
  {
   "cell_type": "code",
   "execution_count": null,
   "metadata": {
    "colab": {
     "base_uri": "https://localhost:8080/",
     "height": 34
    },
    "colab_type": "code",
    "id": "scmDJE-ldsI9",
    "outputId": "4b1d1979-9f4a-4bc6-c505-b88b1bbd4d5d"
   },
   "outputs": [
    {
     "name": "stdout",
     "output_type": "stream",
     "text": [
      "29\n"
     ]
    }
   ],
   "source": [
    "#Write a python program to implement index method using loop. If sub_str is found in my_str then it will print the index\n",
    "# of first occurrence of first character of matching string in my_str:-\n",
    "\n",
    "#Input:- my_str = 'Peter Piper Picked A Peck Of Pickled Peppers.', sub_str = 'Pickl'\n",
    "#Output:- 29\n",
    "\n",
    "my_str = 'Peter Piper Picked A Peck Of Pickled Peppers.'\n",
    "sub_str = 'Pickl'\n",
    "\n",
    "l2 = len(sub_str)\n",
    "\n",
    "for i in range(len(my_str)):\n",
    "  if my_str[i] == sub_str[0]:\n",
    "    if my_str[i:(i+l2)] == sub_str:\n",
    "      print(i)\n",
    "\n",
    "  else:\n",
    "    continue"
   ]
  },
  {
   "cell_type": "code",
   "execution_count": 3,
   "metadata": {
    "colab": {},
    "colab_type": "code",
    "id": "Kq_fwdb_dvYE"
   },
   "outputs": [
    {
     "name": "stdout",
     "output_type": "stream",
     "text": [
      "Peter Piper Picked A Pack Of Pickled Peppers.\n"
     ]
    }
   ],
   "source": [
    "#Write a python program to implement replace method using loop. If sub_str is found in my_str then it will replace the first \n",
    "#occurrence of sub_str with new_str else it will will print sub_str not found:-\n",
    "\n",
    "#Input:- my_str = 'Peter Piper Picked A Peck Of Pickled Peppers.', sub_str = 'Peck', new_str = 'Pack'\n",
    "#Output:- 'Peter Piper Picked A Pack Of Pickled Peppers.'\n",
    "\n",
    "my_str = 'Peter Piper Picked A Peck Of Pickled Peppers.'\n",
    "sub_str = 'Peck'\n",
    "new_str = 'Pack'\n",
    "\n",
    "s1 = ''\n",
    "\n",
    "l2 = len(sub_str)\n",
    "\n",
    "for i in range(len(my_str)):\n",
    "  if my_str[i] == sub_str[0]:\n",
    "    if my_str[i:(i+l2)] == sub_str:\n",
    "      a = i\n",
    "\n",
    "  else:\n",
    "    continue\n",
    "\n",
    "s1 = my_str[0:a] + new_str + my_str[a+l2:]\n",
    "print(s1)\n"
   ]
  },
  {
   "cell_type": "code",
   "execution_count": 4,
   "metadata": {
    "colab": {},
    "colab_type": "code",
    "id": "4Qes5D0cdyd1"
   },
   "outputs": [
    {
     "name": "stdout",
     "output_type": "stream",
     "text": [
      "*********************Peck********************\n"
     ]
    }
   ],
   "source": [
    "#Write a python program to find below output (implements rjust and ljust) using loop:-\n",
    "\n",
    "#Input:- 'Peter Piper Picked A Peck Of Pickled Peppers.', sub_str = 'Peck', \n",
    "#Output:- '*********************Peck********************'\n",
    "\n",
    "my_str = 'Peter Piper Picked A Peck Of Pickled Peppers.'\n",
    "sub_str = 'Peck'\n",
    "\n",
    "l2 = len(sub_str)\n",
    "\n",
    "for i in range(len(my_str)):\n",
    "  if my_str[i] == sub_str[0]:\n",
    "    if my_str[i:(i+l2)] == sub_str:\n",
    "      a=i\n",
    "\n",
    "  else:\n",
    "    continue\n",
    "\n",
    "s1,s2 = '*'*a,'*'*(len(my_str)-l2-a)\n",
    "\n",
    "print(s1+sub_str+s2)\n",
    "\n"
   ]
  },
  {
   "cell_type": "code",
   "execution_count": 8,
   "metadata": {
    "colab": {},
    "colab_type": "code",
    "id": "DsOrb07Od0lR"
   },
   "outputs": [
    {
     "name": "stdout",
     "output_type": "stream",
     "text": [
      "['This', ' is', ' Python class']\n"
     ]
    }
   ],
   "source": [
    "#Write a python program to find below output using loop:-\n",
    "\n",
    "#Input:- 'This is Python class', sep = 'is', \n",
    "#Output:- ['This', 'is', 'Python class']\n",
    "\n",
    "s = 'This is Python class'\n",
    "sep = ' is'\n",
    "l2 = len(sep)\n",
    "for i in range(len(s)):\n",
    "  if s[i] == sep[0]:\n",
    "    if s[i:(i+l2)] == sep:\n",
    "      a = i\n",
    "\n",
    "  else:\n",
    "    continue\n",
    "\n",
    "s1 = s[:a]\n",
    "s2 = s[a+l2:]\n",
    "\n",
    "lst = [s1,sep,s2]\n",
    "print(lst)\n"
   ]
  },
  {
   "cell_type": "code",
   "execution_count": 39,
   "metadata": {
    "colab": {},
    "colab_type": "code",
    "id": "jRnBVufmd2Ay"
   },
   "outputs": [],
   "source": [
    "#Write a python program which takes one input string from user and encode it in below format:-\n",
    "    # 1. #Input:- 'Python'\n",
    "       #Output:- 'R{vjqp'\n",
    "        \n",
    "        \n",
    "        \n",
    "        \n",
    "        \n",
    "\n",
    "    # 2. #Input:- 'Python'\n",
    "       #Output:- 'Rwvfql'\n",
    "        \n",
    "        \n",
    "        \n",
    "        \n",
    "        \n",
    "    # 3. #Input:- 'Python'\n",
    "       #Output:- 'R{vkfml'\n",
    "\n"
   ]
  },
  {
   "cell_type": "code",
   "execution_count": 40,
   "metadata": {},
   "outputs": [
    {
     "data": {
      "text/plain": [
       "tuple"
      ]
     },
     "execution_count": 40,
     "metadata": {},
     "output_type": "execute_result"
    }
   ],
   "source": [
    "tpl = 1,2,3,4,5\n",
    "\n",
    "type(tpl)"
   ]
  },
  {
   "cell_type": "code",
   "execution_count": null,
   "metadata": {},
   "outputs": [],
   "source": []
  }
 ],
 "metadata": {
  "colab": {
   "name": "Conditional_and_loop_assignment.ipynb",
   "provenance": []
  },
  "kernelspec": {
   "display_name": "Python 3",
   "language": "python",
   "name": "python3"
  },
  "language_info": {
   "codemirror_mode": {
    "name": "ipython",
    "version": 3
   },
   "file_extension": ".py",
   "mimetype": "text/x-python",
   "name": "python",
   "nbconvert_exporter": "python",
   "pygments_lexer": "ipython3",
   "version": "3.7.6"
  }
 },
 "nbformat": 4,
 "nbformat_minor": 1
}
